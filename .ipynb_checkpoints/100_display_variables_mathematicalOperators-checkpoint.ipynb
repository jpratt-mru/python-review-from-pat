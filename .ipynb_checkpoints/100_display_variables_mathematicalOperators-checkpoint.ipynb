{
 "cells": [
  {
   "cell_type": "markdown",
   "id": "e0a627f3",
   "metadata": {},
   "source": [
    "# Displaying Information to Screen\n",
    "---\n",
    "## Syntax"
   ]
  },
  {
   "cell_type": "code",
   "execution_count": 75,
   "id": "12b28d8e",
   "metadata": {},
   "outputs": [
    {
     "name": "stdout",
     "output_type": "stream",
     "text": [
      "Help on built-in function print in module builtins:\n",
      "\n",
      "print(...)\n",
      "    print(value, ..., sep=' ', end='\\n', file=sys.stdout, flush=False)\n",
      "    \n",
      "    Prints the values to a stream, or to sys.stdout by default.\n",
      "    Optional keyword arguments:\n",
      "    file:  a file-like object (stream); defaults to the current sys.stdout.\n",
      "    sep:   string inserted between values, default a space.\n",
      "    end:   string appended after the last value, default a newline.\n",
      "    flush: whether to forcibly flush the stream.\n",
      "\n"
     ]
    }
   ],
   "source": [
    "help (print)"
   ]
  },
  {
   "cell_type": "markdown",
   "id": "fd4eda77",
   "metadata": {},
   "source": [
    "## Purpose\n",
    "\n",
    "To provide text-based communciations with the user that runs the program.\n",
    "- instructions\n",
    "- explanations\n",
    "- prompts\n",
    "- solution statements\n",
    "\n",
    "## Details:\n",
    "- it displays numbers, strings of symbols and the value a variable represents in the order the values are listed inside the brackets\n",
    "    - each value inside the brackets will be displayed in order and must be separated by commas\n",
    "    - *strings* must be surrounded by matched *straight* single quotes or double quotes.\n",
    "- Capitalization matters.\n",
    "- matching brackets and bracket type matters.\n",
    "- spaces after the instruction or inside brackets do not matter.\n",
    "- default parameters can be omitted, but if specified, must be listed in order at the end of the brackets.\n",
    "    - sep will separate each value (at comma) with a space (unless a character is otherwise indicated)\n",
    "    - end will end each instruction to display by moving to a new line\n",
    "        - '\\n' is an *escape sequence* that indicates *new line* / *Enter* / *Return*\n"
   ]
  },
  {
   "cell_type": "code",
   "execution_count": 11,
   "id": "d48befcc",
   "metadata": {},
   "outputs": [
    {
     "ename": "NameError",
     "evalue": "name 'Print' is not defined",
     "output_type": "error",
     "traceback": [
      "\u001b[1;31m---------------------------------------------------------------------------\u001b[0m",
      "\u001b[1;31mNameError\u001b[0m                                 Traceback (most recent call last)",
      "Input \u001b[1;32mIn [11]\u001b[0m, in \u001b[0;36m<cell line: 1>\u001b[1;34m()\u001b[0m\n\u001b[1;32m----> 1\u001b[0m \u001b[43mPrint\u001b[49m(\u001b[38;5;241m4\u001b[39m)\n",
      "\u001b[1;31mNameError\u001b[0m: name 'Print' is not defined"
     ]
    }
   ],
   "source": [
    "Print(4)"
   ]
  },
  {
   "cell_type": "code",
   "execution_count": 13,
   "id": "652d55b9",
   "metadata": {},
   "outputs": [
    {
     "name": "stdout",
     "output_type": "stream",
     "text": [
      "1\n",
      "2\n",
      "3\n",
      "4 5\n",
      "four\n",
      "four five 4 5\n",
      "five 4\n"
     ]
    }
   ],
   "source": [
    "print(1)\n",
    "print           (2)\n",
    "print(        3)\n",
    "print(4,5)\n",
    "print(\"four\")\n",
    "print('four', \"five\", 4, 5)\n",
    "x = 4\n",
    "y =\"five\"\n",
    "print(y,x)"
   ]
  },
  {
   "cell_type": "code",
   "execution_count": 7,
   "id": "f9770bb8",
   "metadata": {},
   "outputs": [
    {
     "name": "stdout",
     "output_type": "stream",
     "text": [
      "4-five\n",
      "4&five\n"
     ]
    }
   ],
   "source": [
    "print(x,y, sep = '-')\n",
    "print(x,end=\"&\")\n",
    "print(y)"
   ]
  },
  {
   "cell_type": "markdown",
   "id": "931ec0a3",
   "metadata": {},
   "source": [
    "# Variables (quick)\n",
    "---\n",
    "\n",
    "Instead of including *literals* (aka literally typing the number or the *string*) you can create a name to represent a value.\n",
    "```\n",
    "x = 4\n",
    "y = 'five'\n",
    "G = 9.81\n",
    "```\n",
    "\n",
    "*But* there are rules and conventions for naming variables.\n",
    "- **mnenomic and self-documenting**\n",
    "- variables **cannot** use names already assigned to [built-in Python instructions](https://docs.python.org/3/library/functions.html).\n",
    "    - for example, this would be **terribly incorrect**:<br>\n",
    "        `print = \"stuff I want to print\"`\n",
    "- variable names **cannot start with letters nor most symbols** and ought not to start with:\n",
    "    - 'l' - lower case 'L'\n",
    "    - o or O \n",
    "- variable names **should not** start with capital letters\n",
    "- variable names should be **all capitals letters for *constants***"
   ]
  },
  {
   "cell_type": "code",
   "execution_count": 74,
   "id": "98825dfa",
   "metadata": {},
   "outputs": [
    {
     "name": "stdout",
     "output_type": "stream",
     "text": [
      "0 0 0 1 1\n",
      "Save variable names that start with capital letters for 'Classes'\n",
      "Pi is a constant: 3.14159\n"
     ]
    }
   ],
   "source": [
    "o = 0\n",
    "O = 0\n",
    "l=1\n",
    "print(o,O,0,1,l) # ugly and hard to read\n",
    "Wrong = \"Save variable names that start with capital letters for 'Classes'\"\n",
    "print(Wrong)\n",
    "PI=3.14159\n",
    "print('Pi is a constant:',PI)"
   ]
  },
  {
   "cell_type": "markdown",
   "id": "2e2df8bb",
   "metadata": {},
   "source": [
    "# Displaying Other Symbols\n",
    "--- \n",
    "\n",
    "- '\\n' will be interpreted as *new line*\n",
    "- '\\t' will be interpreted as *tab*"
   ]
  },
  {
   "cell_type": "code",
   "execution_count": 14,
   "id": "c5347bb0",
   "metadata": {},
   "outputs": [
    {
     "name": "stdout",
     "output_type": "stream",
     "text": [
      "4 5 \n",
      " 6 7\n",
      "new\n",
      "line\n"
     ]
    }
   ],
   "source": [
    "print(4,5,\"\\n\",6,7)\n",
    "print(\"new\\nline\")"
   ]
  },
  {
   "cell_type": "markdown",
   "id": "61f2516e",
   "metadata": {},
   "source": [
    "- using '\\uXXXX' will provide you the ability to display 143K+ *Unicode* symbols\n",
    "    - Wikipeida has a list  https://en.wikipedia.org/wiki/List_of_Unicode_characters#Greek_Extended\n",
    "    - XXXX are hexdecimal numbers (0-9,A-F)<br>\n",
    "\n",
    "    BTW:\n",
    "    - What does \\n\\t appear to be doing in line one of the code below?\n"
   ]
  },
  {
   "cell_type": "code",
   "execution_count": 27,
   "id": "983ac5e3",
   "metadata": {},
   "outputs": [
    {
     "name": "stdout",
     "output_type": "stream",
     "text": [
      "For example the symbol for the Latin Small Letter c with cedilla \n",
      "\tis encoded with Unicode number 00E7\n",
      "ç\n",
      "français\n"
     ]
    }
   ],
   "source": [
    "print(\"For example the symbol for the Latin Small Letter c with cedilla \\n\\tis encoded with Unicode number 00E7\")\n",
    "print(\"\\u00E7\")\n",
    "print(\"fran\\u00E7ais\")"
   ]
  },
  {
   "cell_type": "markdown",
   "id": "95bac4f5",
   "metadata": {},
   "source": [
    "###  Common Formulae Unicode Symbols\n",
    "- u00B1 is the plus/mins sign\n",
    "- u0391 to u03A9, and u03B1 to u03C9 are common Greek letters\n",
    "- common super and subscripts are u00B2, u00B3, u207x to u209x\n",
    "- mathematical operators (beyond the common) are u220x to u2FFx"
   ]
  },
  {
   "cell_type": "code",
   "execution_count": 45,
   "id": "0b995a4a",
   "metadata": {},
   "outputs": [
    {
     "name": "stdout",
     "output_type": "stream",
     "text": [
      "If β = 3 m,\n",
      "then β² = 9 m²\n",
      "\n",
      "Also ∫x⁴ dx = x⁵/5\n"
     ]
    }
   ],
   "source": [
    "print(\"If \\u03B2 = 3 m,\")\n",
    "print(\"then \\u03B2\\u00B2 = 9 m\\u00B2\")\n",
    "print()\n",
    "print(\"Also \\u222Bx\\u2074 dx = x\\u2075/5\")"
   ]
  },
  {
   "cell_type": "markdown",
   "id": "9a3dea77",
   "metadata": {},
   "source": [
    "## fStrings\n",
    "--- \n",
    "\n",
    "- F or f infront of quoted string\n",
    "- {} used to locate the variables\n",
    "\n",
    "```python\n",
    "x=5\n",
    "name=\"PJ\"\n",
    "print(f\"Hello {name}. I am {x}-years old.\")\n",
    "```\n",
    "> Hello PJ. I am 5-years old.\n",
    "\n",
    "### Formatting the variable\n",
    "Syntax:\n",
    "> `{ variableName :[+][grouping][width][.precision][type] }`\n",
    "\n",
    "#### Format Specifiers (after the colon) - All optional. Order matters.\n",
    "1. Force sign to show\n",
    "    - negative sign always shows regardless\n",
    "1. With , or _ symbol, group number\n",
    "1. Width specifies the space into which the variable is placed.\n",
    "    - default is left aligned followed by blank spaces, but can be right, left, centre aligned and can specify character used for spacing\n",
    "1. Precision indicates the number of decimal places\n",
    "    - only works with numbers\n",
    "    - .0 means show no decimal places\n",
    "    - can show more precision than number actually has\n",
    "1. Data type displayed (does **not** change the variable data type)\n",
    "    - e for Python verson of scientific notation\n",
    "    - f for float\n",
    "    - %\n",
    "        - will divide number by 100 and display the % symbol"
   ]
  },
  {
   "cell_type": "code",
   "execution_count": 49,
   "id": "227ab751",
   "metadata": {},
   "outputs": [
    {
     "name": "stdout",
     "output_type": "stream",
     "text": [
      "54 or +54\n",
      " Hi PJ        . How are you?\n",
      " Hi ********PJ. How are you?\n",
      " Hi PJ&&&&&&&&&&&&&&&&&&. How are you?\n",
      " Hi ------PJ-------. How are you?\n",
      " Hi 0000000054. How are you?\n",
      "345,345.345\n",
      "3.453453e+05\n",
      "345345.34\n",
      "3.5e+05\n",
      "345,345\n",
      "3%\n",
      "+000_000_000_000_345_345.34500\n"
     ]
    }
   ],
   "source": [
    "var=\"PJ\"\n",
    "var2=54\n",
    "var3=345345.345\n",
    "#1\n",
    "print(f'{var2} or {var2:+}')\n",
    "#2\n",
    "print(f' Hi {var:10}. How are you?') #  variable displayed left aligned in 10 blank spaces (default symbol)\n",
    "print(f' Hi {var:*>10}. How are you?') # right aligned using *\n",
    "print(f' Hi {var:&<20}. How are you?') # left aligned, within 10 using & symbol \n",
    "print(f' Hi {var:-^15}. How are you?') # centered in 15 using - symbol\n",
    "print(f' Hi {var2:010}. How are you?') # forces number to have leading zeros and be 10 digits long\n",
    "#3\n",
    "\n",
    "print(f'{var3:,}')\n",
    "\n",
    "print(f'{var3:e}') # scientific notation\n",
    "print(f'{var3:.2f}') # as a 2 decimal float\n",
    "print(f'{var3:.1e}') # as 1 decimal sci not\n",
    "print(f'{var3:,.0f}') # as a 2 decimal float with comma grouping\n",
    "print(f'{var3/10e6:.0%}') # as a not decimal percentage\\\n",
    "print(f'{var3:+030_.5f}') # force sign to show, with leading zeros, in a 30 space, grouped with _, 5? decimal float \n"
   ]
  },
  {
   "cell_type": "markdown",
   "id": "c8723900",
   "metadata": {},
   "source": [
    "# Mathematical Operators\n",
    "---\n",
    "\n",
    "## With number data\n",
    "Most operators are familiar except perhaps:\n",
    "    ```python\n",
    "    print(6 % 4)\n",
    "    print(6 // 4 , 'vs', 6 / 4)\n",
    "    ```\n",
    "\n",
    "### Order of Precedence\n",
    "\n",
    "- Brackets: round and square \n",
    "- sign\n",
    "- exponents\n",
    "- multiplication, division, modulo and floor division\n",
    "    - recall floor division always produces the integer moving **towards negative -∞\n",
    "- addition and subtraction\n",
    " "
   ]
  },
  {
   "cell_type": "code",
   "execution_count": 50,
   "id": "b1510158",
   "metadata": {},
   "outputs": [
    {
     "name": "stdout",
     "output_type": "stream",
     "text": [
      "2\n",
      "1 vs 1.5\n",
      "instead of 1.5 we get -2 or -2 or 1\n",
      "\n",
      "-5 vs 5\n",
      "625\n"
     ]
    }
   ],
   "source": [
    "print(6 % 4)\n",
    "print(6 // 4 , 'vs', 6 / 4)\n",
    "print( \"instead of\", 6/4, \"we get\",-6 // 4,\"or\", 6 // -4,\"or\", -6 // -4)\n",
    "print()\n",
    "\n",
    "print( (2+3)*(2-3), \"vs\", 2+(3*2)-3 )\n",
    "aList=[2,3,4]\n",
    "print( (aList[0]+aList[1]) ** aList[2] )"
   ]
  },
  {
   "cell_type": "markdown",
   "id": "4905a5d8",
   "metadata": {},
   "source": [
    "### Associativity\n",
    "Operators of the same precedence are always determined in left to right order"
   ]
  },
  {
   "cell_type": "code",
   "execution_count": 59,
   "id": "512eaddd",
   "metadata": {},
   "outputs": [
    {
     "name": "stdout",
     "output_type": "stream",
     "text": [
      "0 vs 1\n"
     ]
    }
   ],
   "source": [
    "print (5*7%5//2, 'vs', 5*7%(5//2))"
   ]
  },
  {
   "cell_type": "markdown",
   "id": "d09fbb2c",
   "metadata": {},
   "source": [
    "## Overloaded operators\n",
    "\n",
    "You can `add`  numbers or `concatenate` strings<br>\n",
    "or<br>\n",
    "`multiply`  numbers or `repeat` a string a certain number of times,<br>\n",
    "but when you can't..."
   ]
  },
  {
   "cell_type": "code",
   "execution_count": 37,
   "id": "4be2a9c3",
   "metadata": {},
   "outputs": [
    {
     "name": "stdout",
     "output_type": "stream",
     "text": [
      "5\n",
      "23\n",
      "6\n",
      "222\n"
     ]
    }
   ],
   "source": [
    "print(2+3)\n",
    "print(\"2\"+\"3\")\n",
    "print(2*3)\n",
    "print(\"2\"*3)"
   ]
  },
  {
   "cell_type": "markdown",
   "id": "8415da87",
   "metadata": {},
   "source": [
    "## Assignment Operators\n",
    "\n",
    "One step way to set the value of variable by doing the math on the right hand side, and assigning it to the variable.\n"
   ]
  },
  {
   "cell_type": "code",
   "execution_count": 81,
   "id": "da9ef3bb",
   "metadata": {},
   "outputs": [
    {
     "name": "stdout",
     "output_type": "stream",
     "text": [
      "99\n",
      "100\n",
      "101\n",
      "65\n",
      "6\n",
      "5\n"
     ]
    }
   ],
   "source": [
    "a = 99\n",
    "print(a)\n",
    "a = a + 1\n",
    "###########################\n",
    "print(a)\n",
    "a += 1\n",
    "print(a)\n",
    "b=100\n",
    "b -=35\n",
    "print(b)\n",
    "b //=10\n",
    "print(b)\n",
    "a %= b\n",
    "print(a)"
   ]
  },
  {
   "cell_type": "markdown",
   "id": "572f86c2",
   "metadata": {},
   "source": [
    "# Data Casting\n",
    "--- "
   ]
  },
  {
   "cell_type": "code",
   "execution_count": 71,
   "id": "c724fa21",
   "metadata": {},
   "outputs": [
    {
     "name": "stdout",
     "output_type": "stream",
     "text": [
      "5 can become 5.0 5\n",
      "5 can become 5.0 5\n",
      "5.5 can be made into 5 -- truncated NOT rounded\n"
     ]
    }
   ],
   "source": [
    "var=5\n",
    "var2=\"five\"\n",
    "var3='5'\n",
    "var4 = 5.5\n",
    "varAsFloat=float(var)\n",
    "varAsString=str(var)\n",
    "var3AsFloat=float(var3)\n",
    "var3AsInt=int(var3)\n",
    "print(var, 'can become', varAsFloat, varAsString)\n",
    "print(var3,'can become', var3AsFloat, var3AsInt)\n",
    "print(var4, \"can be made into\", int(var4),\"-- truncated NOT rounded\")"
   ]
  },
  {
   "cell_type": "code",
   "execution_count": 73,
   "id": "b6f2ab63",
   "metadata": {},
   "outputs": [
    {
     "ename": "ValueError",
     "evalue": "invalid literal for int() with base 10: 'five'",
     "output_type": "error",
     "traceback": [
      "\u001b[1;31m---------------------------------------------------------------------------\u001b[0m",
      "\u001b[1;31mValueError\u001b[0m                                Traceback (most recent call last)",
      "Input \u001b[1;32mIn [73]\u001b[0m, in \u001b[0;36m<cell line: 2>\u001b[1;34m()\u001b[0m\n\u001b[0;32m      1\u001b[0m \u001b[38;5;66;03m#But...\u001b[39;00m\n\u001b[1;32m----> 2\u001b[0m \u001b[38;5;28mprint\u001b[39m(var2, \u001b[38;5;124m\"\u001b[39m\u001b[38;5;124mcan\u001b[39m\u001b[38;5;124m'\u001b[39m\u001b[38;5;124mt be made into\u001b[39m\u001b[38;5;124m\"\u001b[39m,\u001b[38;5;28;43mint\u001b[39;49m\u001b[43m(\u001b[49m\u001b[43mvar2\u001b[49m\u001b[43m)\u001b[49m )\n",
      "\u001b[1;31mValueError\u001b[0m: invalid literal for int() with base 10: 'five'"
     ]
    }
   ],
   "source": [
    "#But...\n",
    "print(var2, \"can't be made into\",int(var2) )"
   ]
  },
  {
   "cell_type": "code",
   "execution_count": null,
   "id": "07d4b8a0",
   "metadata": {},
   "outputs": [],
   "source": []
  }
 ],
 "metadata": {
  "kernelspec": {
   "display_name": "Python 3 (ipykernel)",
   "language": "python",
   "name": "python3"
  },
  "language_info": {
   "codemirror_mode": {
    "name": "ipython",
    "version": 3
   },
   "file_extension": ".py",
   "mimetype": "text/x-python",
   "name": "python",
   "nbconvert_exporter": "python",
   "pygments_lexer": "ipython3",
   "version": "3.9.12"
  }
 },
 "nbformat": 4,
 "nbformat_minor": 5
}
