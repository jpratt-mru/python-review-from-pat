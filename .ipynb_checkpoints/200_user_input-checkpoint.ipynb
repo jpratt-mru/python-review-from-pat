{
 "cells": [
  {
   "cell_type": "markdown",
   "id": "286e2be3",
   "metadata": {},
   "source": [
    "# Getting Keyboard input from user\n",
    "---\n",
    "## Basic Syntax"
   ]
  },
  {
   "cell_type": "code",
   "execution_count": 1,
   "id": "cb20aeac",
   "metadata": {},
   "outputs": [
    {
     "name": "stdout",
     "output_type": "stream",
     "text": [
      "Help on method raw_input in module ipykernel.kernelbase:\n",
      "\n",
      "raw_input(prompt='') method of ipykernel.ipkernel.IPythonKernel instance\n",
      "    Forward raw_input to frontends\n",
      "    \n",
      "    Raises\n",
      "    ------\n",
      "    StdinNotImplementedError if active frontend doesn't support stdin.\n",
      "\n"
     ]
    }
   ],
   "source": [
    "help(input)"
   ]
  },
  {
   "cell_type": "markdown",
   "id": "89a0b173",
   "metadata": {},
   "source": [
    "## Notes:\n",
    "- value returning function\n",
    "    - assign the value the user types to some variable\n",
    "- 'Enter' / 'Return' that the user types at the end of their effort is ignored\n",
    "- prompt is optional, but user friendly code uses it (or multiple print lines **before** the input) to make clear what the user can and cannot provide\n",
    "- default data type of keyboard input is **string**\n"
   ]
  },
  {
   "cell_type": "code",
   "execution_count": 5,
   "id": "6b7bec19",
   "metadata": {},
   "outputs": [
    {
     "name": "stdout",
     "output_type": "stream",
     "text": [
      "rfgt\n",
      "you just typed rfgt\n",
      "type a number pls: 53.2\n",
      "This time type your mass, but do NOT indicate the units\n",
      "87\n",
      "was that in kg or lbs? kg\n",
      "You indicated your mass is 87 kg\n"
     ]
    }
   ],
   "source": [
    "a = input()\n",
    "print(\"you just typed\",a)\n",
    "b = input(\"type a number pls: \")\n",
    "b = float(b)\n",
    "print('This time type your mass, but do NOT indicate the units')\n",
    "c = int(input())\n",
    "d = input(\"was that in kg or lbs? \")\n",
    "print(\"You indicated your mass is\",c,d)"
   ]
  }
 ],
 "metadata": {
  "kernelspec": {
   "display_name": "Python 3 (ipykernel)",
   "language": "python",
   "name": "python3"
  },
  "language_info": {
   "codemirror_mode": {
    "name": "ipython",
    "version": 3
   },
   "file_extension": ".py",
   "mimetype": "text/x-python",
   "name": "python",
   "nbconvert_exporter": "python",
   "pygments_lexer": "ipython3",
   "version": "3.9.12"
  }
 },
 "nbformat": 4,
 "nbformat_minor": 5
}
