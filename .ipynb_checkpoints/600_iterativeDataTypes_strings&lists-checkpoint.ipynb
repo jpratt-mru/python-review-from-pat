{
 "cells": [
  {
   "cell_type": "markdown",
   "id": "26b65bd3",
   "metadata": {},
   "source": [
    "# Iterated Data Types: Strings and Lists\n",
    "---\n",
    "While technically, all Python data types are classes, often number data types are treated like primitives (aka values encoded in straight forward ways), but both string and list have class attributes and methods that make them powerful ways to store data.\n",
    "\n",
    "# Indexing\n",
    "```python\n",
    "aString = 'Pecan pie is sweet.'\n",
    "aList = ['Pecan', 'pie', 'is', 'sweet.']\n",
    "```\n",
    "Items in a data structure that can have multiple items are ordered and each location has a numerical index. \n",
    "\n",
    "## Postive (& in Python, Negative) Indices\n",
    "Indices start counting from `0`.\n",
    "Square brackets immediately following the data structure's variable name are used to enclose an index number.\n",
    "The resulting name acts like a variable name for that item in the structure.\n",
    "\n",
    "Python can also refer to items in these structures by counting from the last item, `index = -1`, backwards."
   ]
  },
  {
   "cell_type": "code",
   "execution_count": 15,
   "id": "45a9bec9",
   "metadata": {},
   "outputs": [
    {
     "name": "stdout",
     "output_type": "stream",
     "text": [
      "\n",
      "aString items P >   < i\n",
      "aList items Pecan sweet.\n",
      "More aString items: . t\n",
      "More items from the two lists: Pecan 40\n",
      "\n",
      "PecanP\n",
      "150\n",
      "\n"
     ]
    }
   ],
   "source": [
    "# various indexed data structures\n",
    "aString = 'Pecan pie is sweet.'\n",
    "aList = ['Pecan', 'pie', 'is', 'sweet.']\n",
    "bList = [40,50,60]\n",
    "print()\n",
    "#using indices to access the value of individual items\n",
    "print(\"aString items\", aString[0],  \">\",aString[5],\"<\", aString[7]) # Notice the space character is at index 5\n",
    "print(\"aList items\", aList[0], aList[3])\n",
    "print(\"More aString items:\", aString[-1], aString[-2])\n",
    "print(\"More items from the two lists:\", aList[-4], bList[-3])\n",
    "print()\n",
    "#treating items referred to by index as variables.\n",
    "print(aList[0]+aString[0])\n",
    "print(bList[0]+bList[1]+bList[2])\n",
    "print()"
   ]
  },
  {
   "cell_type": "markdown",
   "id": "29b0fcd6",
   "metadata": {},
   "source": [
    "### Note\n",
    "- Keep in mind, the index number enclosed in square brackets is **not** the value at that index: **it is the location of an item in a data structure**.\n",
    "- Indices do not *wrap*. If the positive integer is greater than the string, or if the negative integer goes beyond the first item, you will get a run-time error: IndexError"
   ]
  },
  {
   "cell_type": "code",
   "execution_count": 25,
   "id": "95e2ff0f",
   "metadata": {},
   "outputs": [
    {
     "ename": "IndexError",
     "evalue": "list index out of range",
     "output_type": "error",
     "traceback": [
      "\u001b[1;31m---------------------------------------------------------------------------\u001b[0m",
      "\u001b[1;31mIndexError\u001b[0m                                Traceback (most recent call last)",
      "Input \u001b[1;32mIn [25]\u001b[0m, in \u001b[0;36m<cell line: 1>\u001b[1;34m()\u001b[0m\n\u001b[1;32m----> 1\u001b[0m \u001b[38;5;28mprint\u001b[39m(\u001b[43mbList\u001b[49m\u001b[43m[\u001b[49m\u001b[38;5;241;43m60\u001b[39;49m\u001b[43m]\u001b[49m)\n",
      "\u001b[1;31mIndexError\u001b[0m: list index out of range"
     ]
    }
   ],
   "source": [
    "print(bList[60])"
   ]
  },
  {
   "cell_type": "code",
   "execution_count": 27,
   "id": "204435d4",
   "metadata": {},
   "outputs": [
    {
     "ename": "IndexError",
     "evalue": "string index out of range",
     "output_type": "error",
     "traceback": [
      "\u001b[1;31m---------------------------------------------------------------------------\u001b[0m",
      "\u001b[1;31mIndexError\u001b[0m                                Traceback (most recent call last)",
      "Input \u001b[1;32mIn [27]\u001b[0m, in \u001b[0;36m<cell line: 1>\u001b[1;34m()\u001b[0m\n\u001b[1;32m----> 1\u001b[0m \u001b[38;5;28mprint\u001b[39m(\u001b[43maString\u001b[49m\u001b[43m[\u001b[49m\u001b[38;5;241;43m-\u001b[39;49m\u001b[38;5;241;43m40\u001b[39;49m\u001b[43m]\u001b[49m)\n",
      "\u001b[1;31mIndexError\u001b[0m: string index out of range"
     ]
    }
   ],
   "source": [
    "print(aString[-40])"
   ]
  },
  {
   "cell_type": "markdown",
   "id": "8ef42a95",
   "metadata": {},
   "source": [
    "## Slicing\n",
    "Extending the indexing idea, Python can **slice** these kinds of data structures with these optional integer parameters, and will return a new data structure with these.\n",
    "- `start` : defaults to `0`\n",
    "- `stop`  : defaults to the length of the structure... the slice **goes up to but does NOT include** this index\n",
    "- `step`  : defaults to `1` but can be any integer.\n",
    "### Syntax\n",
    "`dataStructureName [ start : stop : step ]`\n",
    "#### Notes:\n",
    "- Parameters must be integers.\n",
    "- If the indices go beyond what is in the structure you will not get an error, you will get all valid items returned."
   ]
  },
  {
   "cell_type": "code",
   "execution_count": 31,
   "id": "2d097dea",
   "metadata": {},
   "outputs": [
    {
     "name": "stdout",
     "output_type": "stream",
     "text": [
      "ecan pi\n",
      "['is', 'sweet.']\n",
      "['Pecan', 'sweet.']\n",
      "[]\n"
     ]
    }
   ],
   "source": [
    "slicedString = aString[1:8:]\n",
    "print(slicedString)\n",
    "slicedAList= aList[2::]\n",
    "print(slicedAList)\n",
    "print(aList[::3])\n",
    "noContents =bList[6:10]\n",
    "print(noContents)"
   ]
  },
  {
   "cell_type": "code",
   "execution_count": 28,
   "id": "4f3c5545",
   "metadata": {},
   "outputs": [
    {
     "ename": "TypeError",
     "evalue": "slice indices must be integers or None or have an __index__ method",
     "output_type": "error",
     "traceback": [
      "\u001b[1;31m---------------------------------------------------------------------------\u001b[0m",
      "\u001b[1;31mTypeError\u001b[0m                                 Traceback (most recent call last)",
      "Input \u001b[1;32mIn [28]\u001b[0m, in \u001b[0;36m<cell line: 1>\u001b[1;34m()\u001b[0m\n\u001b[1;32m----> 1\u001b[0m \u001b[38;5;28mprint\u001b[39m(\u001b[43mbList\u001b[49m\u001b[43m[\u001b[49m\u001b[38;5;241;43m0.5\u001b[39;49m\u001b[43m:\u001b[49m\u001b[43m:\u001b[49m\u001b[38;5;241;43m5.5\u001b[39;49m\u001b[43m]\u001b[49m)\n",
      "\u001b[1;31mTypeError\u001b[0m: slice indices must be integers or None or have an __index__ method"
     ]
    }
   ],
   "source": [
    "print(bList[0.5::5.5])"
   ]
  },
  {
   "cell_type": "markdown",
   "id": "85f50d58",
   "metadata": {},
   "source": [
    "## Iterable Attributes\n",
    "Because *iterables* (generic term for data structures with ordered contents), are classes, they have attributes that can be discovered by Python's built in functions.\n",
    "- `=max()`\n",
    "- `=min()`\n",
    "\n",
    "Which will evaluate the individual symbols in a string by ASCII value.\n",
    "\n",
    "Notice how `space` is encoded as a 32, so it will be *smaller* than number symbols, which, in turn, are encoded with a smaller ASCII number than upper-case letter symbols, leaving upper-case letter symbols as *bigger*.<br>\n",
    "See [https://www.asciitable.com/](https://www.asciitable.com/)\n",
    "\n",
    "- `len()`\n",
    "\n",
    "Especially useful when one needs to iterate over a list.\n",
    "```python\n",
    "cheese= [2,4,5,3,5,3,23,4,5,3,2,4,56,,32,,545,3,2,,4,43,2,2,4,3,2,3,54,3,2,4...etc.]\n",
    "\n",
    "i=0\n",
    "while i < len (cheese):\n",
    "    # stuff done with each item in list\n",
    "    i +=1\n",
    "    \n",
    "toast = input(\"Type in your favourite poem: \")\n",
    "for index in (range(  len(toast)   )):\n",
    "    # stuff done at each letter's index...no matter how long the input was\n",
    "    \n",
    "```\n",
    "                         "
   ]
  },
  {
   "cell_type": "markdown",
   "id": "063faf2e",
   "metadata": {},
   "source": [
    "## Iterative Class Methods\n",
    "Recall how methods that are part of a class exist for each instance of that class the moment that instance is defined.\n",
    "For example:\n",
    "```python\n",
    "aString = \"This\"\n",
    "bString = \"that\"\n",
    "\n",
    "print(aString.upper())\n",
    "print(bString.lower())\n",
    "```\n",
    "\n",
    "### String Class Methods to Know\n",
    "Appreciate, the methods listed below are available to any named string variable.\n",
    "Review string methods that:\n",
    "- deal with capitalization\n",
    "- those that count, find or replace sub-strings\n",
    "- return a Boolean to check for letter-case, ends- or startswith, is numerical or alphabetical, etc.\n",
    "- `=split(separator, maxsplit)`  Essential for File I/O. \n",
    "\n",
    "[Others to explore](https://docs.python.org/3/library/stdtypes.html#string-methods)\n",
    "\n",
    "### List Class Methods to Know\n",
    "- `.append(value)`  and `.extend()` is useful too.\n",
    "- `.insert(value)`\n",
    "- `.remove(value)`\n",
    "- `=someList.pop()` Know the default index location this method uses\n",
    "- `.sort() .reverse()`\n",
    "- `=someList.index(value)`\n",
    "- `=someList.count(value)`\n",
    "\n",
    "[others](https://docs.python.org/3/tutorial/datastructures.html)"
   ]
  },
  {
   "cell_type": "code",
   "execution_count": null,
   "id": "1ac03fb7",
   "metadata": {},
   "outputs": [],
   "source": []
  }
 ],
 "metadata": {
  "kernelspec": {
   "display_name": "Python 3 (ipykernel)",
   "language": "python",
   "name": "python3"
  },
  "language_info": {
   "codemirror_mode": {
    "name": "ipython",
    "version": 3
   },
   "file_extension": ".py",
   "mimetype": "text/x-python",
   "name": "python",
   "nbconvert_exporter": "python",
   "pygments_lexer": "ipython3",
   "version": "3.9.12"
  }
 },
 "nbformat": 4,
 "nbformat_minor": 5
}
