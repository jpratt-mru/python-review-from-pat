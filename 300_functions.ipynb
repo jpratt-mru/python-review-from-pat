{
 "cells": [
  {
   "attachments": {
    "parallelogram.png": {
     "image/png": "[encoded data removed]"
    }
   },
   "cell_type": "markdown",
   "id": "a76eb333",
   "metadata": {},
   "source": [
    "# Functions\n",
    "---\n",
    "Used to encapsulate portions of your code, the sub-steps, because:\n",
    "- it helps you develop your algorithm since you can focus on one smaller part of the problem\n",
    "- let's you generalize the algorithm\n",
    "- let's you repeat a sub-step as needed without having to repeat the code\n",
    "\n",
    "## Syntax\n",
    "\n",
    "```python\n",
    "def function_name (idealPar [, idealPar2, ...] [,defaultVPar=X]) :\n",
    "    \"\"\"\n",
    "    documentation string indicating what this function can and cannot\n",
    "    do, and what variables have to (or cannot) be\n",
    "    \"\"\"\n",
    "    # indentated 4 spaces\n",
    "    xFunc=10 \n",
    "    yFunc += xFunc\n",
    "    # local variables. \n",
    "    # Scope (ie, available) inside function only\n",
    "    \n",
    "    result = yFunc + idealPar # using the ideal parameter\n",
    "    # whose value was 'passed in' during function call\n",
    "    \n",
    "    result += defaultPar # uses the default parameter's value\n",
    "    # which might be X or that which was passed in\n",
    "   \n",
    "    etc.\n",
    "    return [value for value returning functions]\n",
    "```\n",
    "\n",
    "## Parameters\n",
    "![parallelogram.png](attachment:parallelogram.png)\n",
    "\n",
    "- Ideal Parameters\n",
    "    - the generalized things the function needs to do its job\n",
    "- Actual Parmeters\n",
    "    - the things passed into a function when it is called\n",
    "\n",
    "We often refer to these things as arguments since they can be:\n",
    "- literals \n",
    "    - number, string\n",
    "- variables & functions\n",
    "    - `\"cheese\"`\n",
    "    - `x`\n",
    "    - `abs(doubler(x))`\n",
    "- expressions\n",
    "    - `3+5`\n",
    "    - `x=14`"
   ]
  },
  {
   "cell_type": "code",
   "execution_count": 1,
   "id": "95359737",
   "metadata": {},
   "outputs": [
    {
     "name": "stdout",
     "output_type": "stream",
     "text": [
      "A 50 ml bottle of 'BYD' brand sanitizer has 28.404 g of alcohol.\n",
      "Tell me the volume of your brand of alcohol: 50\n",
      "What does it say its alcohol $ v/v is? 72\n",
      "That brand has 28.4 grams of alcohol in it.\n"
     ]
    }
   ],
   "source": [
    "# Function Algorithm Python Code Example\n",
    "\n",
    "def alcoholFinder(volume, conc=0.72):\n",
    "    \"\"\"\n",
    "    when provided a positive volume number in mL\n",
    "    returns the mass of the alcohol in a hand sanitizer\n",
    "    assumes 72% alcohol v/v but can be changed if user provide %\n",
    "    \"\"\"\n",
    "    DENSITYALCO = 0.789 #g/bL\n",
    "    volumeAlcohol = volume * conc\n",
    "    \n",
    "    resultAlcoholMass = volumeAlcohol * DENSITYALCO\n",
    "    \n",
    "    return resultAlcoholMass\n",
    "\n",
    "print(\"A 50 ml bottle of 'BYD' brand sanitizer has\",alcoholFinder(50),\"g of alcohol.\")\n",
    "\n",
    "yourVol = float(input(\"Tell me the volume of your brand of alcohol: \"))\n",
    "perAlc = float(input(\"What does it say its alcohol $ v/v is? \"))\n",
    "print(f'That brand has {alcoholFinder(yourVol, perAlc/100):.1f} grams of alcohol in it.')"
   ]
  },
  {
   "cell_type": "markdown",
   "id": "ae6b6870",
   "metadata": {},
   "source": [
    "## Function Algorithm Flowchart Example\n",
    "![functioFlow.png](functionFlow.png)"
   ]
  },
  {
   "cell_type": "markdown",
   "id": "3112d779",
   "metadata": {},
   "source": [
    "## Some complexities\n",
    "- Functions must be defined before they are invoked.\n",
    "- May be a void function that *does stuff* but no value is returned to the caller\n",
    "\n",
    "`print(\"stuff\", 4+3)`\n",
    "\n",
    "or\n",
    "- May be a value-returning function that is then displayed, written to a file or assigned to a variable\n",
    "\n",
    "`x=input()\n",
    "print(abs(6-65))`\n",
    "\n",
    "- Functions can contain any programming structure, including calling on (or even locally defining) other functions\n",
    "- Recall, variables local in scope to a function are **not** accessible outside of the function\n",
    "    - some programmers will name their local variables with a leading underscore as a convention to remind them of this.\n"
   ]
  },
  {
   "cell_type": "code",
   "execution_count": 2,
   "id": "15b68b8b",
   "metadata": {},
   "outputs": [
    {
     "name": "stdout",
     "output_type": "stream",
     "text": [
      "15\n",
      "45\n"
     ]
    },
    {
     "ename": "NameError",
     "evalue": "name '_y' is not defined",
     "output_type": "error",
     "traceback": [
      "\u001b[1;31m---------------------------------------------------------------------------\u001b[0m",
      "\u001b[1;31mNameError\u001b[0m                                 Traceback (most recent call last)",
      "Input \u001b[1;32mIn [2]\u001b[0m, in \u001b[0;36m<cell line: 8>\u001b[1;34m()\u001b[0m\n\u001b[0;32m      6\u001b[0m \u001b[38;5;28mprint\u001b[39m(tripler(\u001b[38;5;241m5\u001b[39m))\n\u001b[0;32m      7\u001b[0m \u001b[38;5;28mprint\u001b[39m(y)\n\u001b[1;32m----> 8\u001b[0m \u001b[38;5;28mprint\u001b[39m(\u001b[43m_y\u001b[49m)\n",
      "\u001b[1;31mNameError\u001b[0m: name '_y' is not defined"
     ]
    }
   ],
   "source": [
    "def tripler(x):\n",
    "    _y= x+x\n",
    "    result = _y +x\n",
    "    return result\n",
    "y = 45\n",
    "print(tripler(5))\n",
    "print(y)\n",
    "print(_y)"
   ]
  },
  {
   "cell_type": "markdown",
   "id": "25a08330",
   "metadata": {},
   "source": [
    "## Other functions to Know\n",
    "### Built-in Functions\n",
    "See [https://docs.python.org/3/library/functions.html}(https://docs.python.org/3/library/functions.html)\n",
    "\n",
    "Commonly used functions you research, play with and understand include:\n",
    "- `=abs()`\n",
    "- `=bool()`\n",
    "- `=chr()`  see ord()\n",
    "- `=enumerate()` which is used to [access both index and item values of a list](https://www.codingem.com/python-for-loop-with-index/) using a `for..in` loop\n",
    "- `=float()`\n",
    "- `help()`\n",
    "- `=input()`\n",
    "- `=int()`\n",
    "- `=len()`\n",
    "- `=list()`\n",
    "- `=map()`  not covered in COMP 2001 but useful to [apply a function over every item in a list](https://www.programiz.com/python-programming/methods/built-in/map)\n",
    "- `=min()`\n",
    "- `open()`\n",
    "- `=ord()` see chr()\n",
    "- `=pow()`\n",
    "- `print()`\n",
    "- `=range()`\n",
    "- `=reversed()`\n",
    "- `=round()`  !!!!!!!!!!!!!!!!!!!!\n",
    "- `=sorted()`\n",
    "- `=str()`\n",
    "- `=sum()`\n",
    "- `=type()`\n",
    "\n",
    "## Outside Modules (Libraries)\n",
    "Other members of the Python community have coded for a variety of useful functions.\n",
    "\n",
    "These module can be imported in variety of ways. Consider the math module and its sub-functions `=sin()` & `=radians()`.\n",
    "\n",
    "### Using Dot Notation\n",
    "```python\n",
    "import math\n",
    "print(math.sin(math.radians(45)))  \n",
    "```\n",
    "### Importing **All** Module Functions Locally \n",
    "Frowned upon as it uses lots of RAM \n",
    "    & can confuse sub-functions with the same name, if multiple modules imported\n",
    "    \n",
    "```python\n",
    "from math import *\n",
    "print(sin(radians(45))\n",
    "```\n",
    "### Importing **Some** Functions\n",
    "```python\n",
    "from math import sin, radians\n",
    "print(sin(radians(45))\n",
    "```\n",
    "### Renaming a Module or its Functions\n",
    "```python\n",
    "import math as m\n",
    "print(m.sin(m.radians(45)))\n",
    "\n",
    "from math import sin as s, radians as r\n",
    "print(s(r(45)))\n",
    "```\n",
    "\n",
    "##  Modules to Know\n",
    "- `math` \\*\n",
    "- `statistics` \\*\n",
    "- `matplotlib.pyplot`  \\*\n",
    "\n",
    "\\* We will be using these modules in COMP 2008\n",
    "\n",
    "## Others\n",
    "- `time`\n",
    "- `numpy`\n",
    "- `scipy`\n"
   ]
  },
  {
   "cell_type": "code",
   "execution_count": null,
   "id": "a4e1fc58",
   "metadata": {},
   "outputs": [],
   "source": []
  }
 ],
 "metadata": {
  "kernelspec": {
   "display_name": "Python 3 (ipykernel)",
   "language": "python",
   "name": "python3"
  },
  "language_info": {
   "codemirror_mode": {
    "name": "ipython",
    "version": 3
   },
   "file_extension": ".py",
   "mimetype": "text/x-python",
   "name": "python",
   "nbconvert_exporter": "python",
   "pygments_lexer": "ipython3",
   "version": "3.9.12"
  }
 },
 "nbformat": 4,
 "nbformat_minor": 5
}
