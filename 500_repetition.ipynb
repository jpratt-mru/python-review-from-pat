{
 "cells": [
  {
   "cell_type": "markdown",
   "id": "796b1404",
   "metadata": {},
   "source": [
    "# Repetition Structures. aka \"Loops\"\n",
    "---\n",
    "## Purpose\n",
    "When you have blocks of code that have to be expressed more than once, use a form of repetition.\n",
    "\n",
    "\n",
    "## Syntax & Structures \n",
    "\n",
    "### A Definite Loop\n",
    "A loop that starts, steps and ends at known points.\n",
    "\n",
    "This one runs 11 times.\n",
    "```python\n",
    "# prime the loop with a starting state\n",
    "i = 0 \n",
    "# why i? Cuz it easily means 'iteration' 'index' etc.\n",
    "\n",
    "while i <= 10 : # assertion that when True for i the loop happens\n",
    "    # indented 4 spaces\n",
    "    # all code in the loop's code block\n",
    "    \n",
    "    # internal change \n",
    "    i += 1\n",
    "```\n",
    "Alternately, using `for..in` and `range([start,] stop,[step])` to automate some of the loop steps.\n",
    "\n",
    "```python\n",
    "for i in range(11):\n",
    "    # stuff\n",
    "    \n",
    "```\n",
    "\n",
    "### An Indefinite Loop\n",
    "#### Sentinel\n",
    "A loop that runs as long as the 'data' does **not** match a sentinel.\n",
    "\n",
    "> In the example below, the loop is initialized by the code having a list of data. `tally` is **not** part of the loop - it is just watching how many times the loop repeats.<br>\n",
    "    The **assertion** continues the loop while there is an empty string as a list item.<br>\n",
    "    The instruction `data.remove(''`) is the **internal change** - it changes the data. \n",
    "    Again, `tally` is NOT the loop interation - you can tell because it is **not** being checked in the assertion.\n"
   ]
  },
  {
   "cell_type": "code",
   "execution_count": 4,
   "id": "f682eb87",
   "metadata": {},
   "outputs": [
    {
     "name": "stdout",
     "output_type": "stream",
     "text": [
      "1\n",
      "2\n",
      "3\n",
      "['The', 'cat', 'in', 'the', 'hat.']\n"
     ]
    }
   ],
   "source": [
    "data=[\"The\", \"\", \"cat\", 'in','' ,'the', 'hat.',\"\"]\n",
    "tally=0\n",
    "while '' in data:\n",
    "    \n",
    "    tally +=1\n",
    "    print(tally)\n",
    "    \n",
    "    data.remove('')\n",
    "    \n",
    "print(data)"
   ]
  },
  {
   "cell_type": "markdown",
   "id": "5003d1cd",
   "metadata": {},
   "source": [
    "#### Interactive\n",
    "A loop that runs when the user indicates it should."
   ]
  },
  {
   "cell_type": "code",
   "execution_count": 7,
   "id": "457495b0",
   "metadata": {},
   "outputs": [
    {
     "name": "stdout",
     "output_type": "stream",
     "text": [
      "Never gonna GIVE YOU UP\n",
      "More? y\n",
      "Never gonna GIVE YOU UP\n",
      "More? y\n",
      "Never gonna GIVE YOU UP\n",
      "More? Y\n",
      "Never gonna GIVE YOU UP\n",
      "More? Ytr\n",
      "Never gonna GIVE YOU UP\n",
      "More? h\n",
      "Never gonna run around and desert you.\n"
     ]
    }
   ],
   "source": [
    "wanna=\"y\"  # prime the loop\n",
    "while wanna[0].lower() == 'y':  # fancy string indexing and method use\n",
    "    print(\"Never gonna GIVE YOU UP\")\n",
    "    wanna = input(\"More? \")\n",
    "print(\"Never gonna run around and desert you.\")"
   ]
  },
  {
   "cell_type": "markdown",
   "id": "b2bea661",
   "metadata": {},
   "source": [
    "### Common Loop Mistakes\n",
    "- **Off by one**\n",
    "    - Recall the programming convention of counting from 0 up to, but not including, a target value. Use this in your loops.\n",
    "    `x = random.random()` produces a float `0<=x<1`\n",
    "    `y = list(range(4))` produces `y = [0, 1, 2, 3]`\n",
    "- **Infinite**\n",
    "    - Either your assertion or your internal change is incorrect and your loop runs forever. Recall how to interrupt and reset your code before your computer runs out of RAM.\n",
    "- **Never runs at all**\n",
    "    - **THIS IS NOT ALWAYS AN ERROR**\n",
    "    While loops are `while..do` meaning they check before they run. It is entirely possible (if your priming or your assertion is incorrect) that a loop just never happens.\n",
    "    \n",
    "    However, a loop not running is an entirely reasonable step for a programmer to include in the algorithm they develop.\n",
    "    "
   ]
  },
  {
   "cell_type": "code",
   "execution_count": null,
   "id": "33976789",
   "metadata": {},
   "outputs": [],
   "source": []
  }
 ],
 "metadata": {
  "kernelspec": {
   "display_name": "Python 3 (ipykernel)",
   "language": "python",
   "name": "python3"
  },
  "language_info": {
   "codemirror_mode": {
    "name": "ipython",
    "version": 3
   },
   "file_extension": ".py",
   "mimetype": "text/x-python",
   "name": "python",
   "nbconvert_exporter": "python",
   "pygments_lexer": "ipython3",
   "version": "3.9.12"
  }
 },
 "nbformat": 4,
 "nbformat_minor": 5
}
